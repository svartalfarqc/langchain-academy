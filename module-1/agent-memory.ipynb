{
 "cells": [
  {
   "cell_type": "markdown",
   "id": "13cd1c3e",
   "metadata": {},
   "source": [
    "[![Open in Colab](https://colab.research.google.com/assets/colab-badge.svg)](https://colab.research.google.com/github/langchain-ai/langchain-academy/blob/main/module-1/agent-memory.ipynb) [![Open in LangChain Academy](https://cdn.prod.website-files.com/65b8cd72835ceeacd4449a53/66e9eba12c7b7688aa3dbb5e_LCA-badge-green.svg)](https://academy.langchain.com/courses/take/intro-to-langgraph/lessons/58239417-lesson-7-agent-with-memory)"
   ]
  },
  {
   "attachments": {},
   "cell_type": "markdown",
   "id": "8c451ffd-a18b-4412-85fa-85186824dd03",
   "metadata": {},
   "source": [
    "# Agent memory\n",
    "\n",
    "## Review\n",
    "\n",
    "Previously, we built an agent that can:\n",
    "\n",
    "* `act` - let the model call specific tools \n",
    "* `observe` - pass the tool output back to the model \n",
    "* `reason` - let the model reason about the tool output to decide what to do next (e.g., call another tool or just respond directly)\n",
    "\n",
    "![Screenshot 2024-08-21 at 12.45.32 PM.png](https://cdn.prod.website-files.com/65b8cd72835ceeacd4449a53/66dbab7453080e6802cd1703_agent-memory1.png)\n",
    "\n",
    "## Goals\n",
    "\n",
    "Now, we're going extend our agent by introducing memory."
   ]
  },
  {
   "cell_type": "code",
   "execution_count": 1,
   "id": "d2b4b45b-cbaa-41b1-b3ed-f6b0645be3f9",
   "metadata": {},
   "outputs": [],
   "source": [
    "%%capture --no-stderr\n",
    "%pip install --quiet -U langchain_openai langchain_core langgraph"
   ]
  },
  {
   "cell_type": "code",
   "execution_count": 2,
   "id": "2b0cfa99",
   "metadata": {},
   "outputs": [],
   "source": [
    "import os, getpass\n",
    "\n",
    "def _set_env(var: str):\n",
    "    if not os.environ.get(var):\n",
    "        os.environ[var] = getpass.getpass(f\"{var}: \")\n",
    "\n",
    "_set_env(\"OPENAI_API_KEY\")"
   ]
  },
  {
   "cell_type": "markdown",
   "id": "02eff247-a2aa-4f7a-8be1-73dfebfecc63",
   "metadata": {},
   "source": [
    "We'll use [LangSmith](https://docs.smith.langchain.com/) for [tracing](https://docs.smith.langchain.com/concepts/tracing)."
   ]
  },
  {
   "cell_type": "code",
   "execution_count": 3,
   "id": "74ef2ff0",
   "metadata": {},
   "outputs": [],
   "source": [
    "_set_env(\"LANGCHAIN_API_KEY\")\n",
    "os.environ[\"LANGCHAIN_TRACING_V2\"] = \"true\"\n",
    "os.environ[\"LANGCHAIN_PROJECT\"] = \"langchain-academy\""
   ]
  },
  {
   "cell_type": "markdown",
   "id": "9c5f123b-db5d-4816-a6a3-2e4247611512",
   "metadata": {},
   "source": [
    "This follows what we did previously."
   ]
  },
  {
   "cell_type": "code",
   "execution_count": 4,
   "id": "46647bbe-def5-4ea7-a315-1de8d97c8288",
   "metadata": {},
   "outputs": [],
   "source": [
    "from langchain_openai import ChatOpenAI\n",
    "\n",
    "def multiply(a: int, b: int) -> int:\n",
    "    \"\"\"Multiply a and b.\n",
    "\n",
    "    Args:\n",
    "        a: first int\n",
    "        b: second int\n",
    "    \"\"\"\n",
    "    return a * b\n",
    "\n",
    "# This will be a tool\n",
    "def add(a: int, b: int) -> int:\n",
    "    \"\"\"Adds a and b.\n",
    "\n",
    "    Args:\n",
    "        a: first int\n",
    "        b: second int\n",
    "    \"\"\"\n",
    "    return a + b\n",
    "\n",
    "def divide(a: int, b: int) -> float:\n",
    "    \"\"\"Divide a and b.\n",
    "\n",
    "    Args:\n",
    "        a: first int\n",
    "        b: second int\n",
    "    \"\"\"\n",
    "    return a / b\n",
    "\n",
    "tools = [add, multiply, divide]\n",
    "llm = ChatOpenAI(model=\"gpt-3.5-turbo-0125\")\n",
    "llm_with_tools = llm.bind_tools(tools)"
   ]
  },
  {
   "cell_type": "code",
   "execution_count": 5,
   "id": "a9092b40-20c4-4872-b0ed-be1b53a15ef3",
   "metadata": {},
   "outputs": [],
   "source": [
    "from langgraph.graph import MessagesState\n",
    "from langchain_core.messages import AIMessage, HumanMessage, SystemMessage\n",
    "\n",
    "# System message\n",
    "sys_msg = SystemMessage(content=\"You are a helpful assistant tasked with performing arithmetic on a set of inputs.\")\n",
    "\n",
    "# Node\n",
    "def assistant(state: MessagesState):\n",
    "   return {\"messages\": [llm_with_tools.invoke([sys_msg] + state[\"messages\"])]}"
   ]
  },
  {
   "cell_type": "code",
   "execution_count": 6,
   "id": "771123a3-91ac-4076-92c0-93bcd69cf048",
   "metadata": {},
   "outputs": [
    {
     "data": {
      "image/png": "[encoded data removed]",
      "text/plain": [
       "<IPython.core.display.Image object>"
      ]
     },
     "metadata": {},
     "output_type": "display_data"
    }
   ],
   "source": [
    "from langgraph.graph import START, StateGraph\n",
    "from langgraph.prebuilt import tools_condition, ToolNode\n",
    "from IPython.display import Image, display\n",
    "\n",
    "# Graph\n",
    "builder = StateGraph(MessagesState)\n",
    "\n",
    "# Define nodes: these do the work\n",
    "builder.add_node(\"assistant\", assistant)\n",
    "builder.add_node(\"tools\", ToolNode(tools))\n",
    "\n",
    "# Define edges: these determine how the control flow moves\n",
    "builder.add_edge(START, \"assistant\")\n",
    "builder.add_conditional_edges(\n",
    "    \"assistant\",\n",
    "    # If the latest message (result) from assistant is a tool call -> tools_condition routes to tools\n",
    "    # If the latest message (result) from assistant is a not a tool call -> tools_condition routes to END\n",
    "    tools_condition,\n",
    ")\n",
    "builder.add_edge(\"tools\", \"assistant\")\n",
    "react_graph = builder.compile()\n",
    "\n",
    "# Show\n",
    "display(Image(react_graph.get_graph(xray=True).draw_mermaid_png()))"
   ]
  },
  {
   "cell_type": "markdown",
   "id": "e830b7ae-3673-4cc6-8627-4740b7b8b217",
   "metadata": {},
   "source": [
    "## Memory\n",
    "\n",
    "Let's run our agent, as before."
   ]
  },
  {
   "cell_type": "code",
   "execution_count": null,
   "id": "596a71a0-1337-44d4-971d-f80c367bd868",
   "metadata": {},
   "outputs": [
    {
     "name": "stdout",
     "output_type": "stream",
     "text": [
      "================================\u001b[1m Human Message \u001b[0m=================================\n",
      "\n",
      "Add 3 and 4.\n",
      "==================================\u001b[1m Ai Message \u001b[0m==================================\n",
      "Tool Calls:\n",
      "  add (call_Ut7tMbMoGMmDi4h88OrwSmcS)\n",
      " Call ID: call_Ut7tMbMoGMmDi4h88OrwSmcS\n",
      "  Args:\n",
      "    a: 3\n",
      "    b: 4\n",
      "=================================\u001b[1m Tool Message \u001b[0m=================================\n",
      "Name: add\n",
      "\n",
      "7\n",
      "==================================\u001b[1m Ai Message \u001b[0m==================================\n",
      "\n",
      "The sum of 3 and 4 is 7.\n"
     ]
    },
    {
     "name": "stderr",
     "output_type": "stream",
     "text": [
      "Failed to get info from https://api.smth.langchain.com: LangSmithConnectionError('Connection error caused failure to GET /info in LangSmith API. Please confirm your LANGCHAIN_ENDPOINT. ConnectionError(MaxRetryError(\\'HTTPSConnectionPool(host=\\\\\\'api.smth.langchain.com\\\\\\', port=443): Max retries exceeded with url: /info (Caused by NameResolutionError(\"<urllib3.connection.HTTPSConnection object at 0x00000198347CAB10>: Failed to resolve \\\\\\'api.smth.langchain.com\\\\\\' ([Errno 11001] getaddrinfo failed)\"))\\'))\\nContent-Length: None\\nAPI Key: lsv2_********************************************6c')\n",
      "Failed to batch ingest runs: langsmith.utils.LangSmithConnectionError: Connection error caused failure to POST https://api.smth.langchain.com/runs/batch in LangSmith API. Please confirm your LANGCHAIN_ENDPOINT. ConnectionError(MaxRetryError('HTTPSConnectionPool(host=\\'api.smth.langchain.com\\', port=443): Max retries exceeded with url: /runs/batch (Caused by NameResolutionError(\"<urllib3.connection.HTTPSConnection object at 0x000001982D9CDD90>: Failed to resolve \\'api.smth.langchain.com\\' ([Errno 11001] getaddrinfo failed)\"))'))\n",
      "Content-Length: 37730\n",
      "API Key: lsv2_********************************************6c\n",
      "post: trace=b5d66100-51c6-460c-8aa4-7e3680dfa486,id=b5d66100-51c6-460c-8aa4-7e3680dfa486; trace=b5d66100-51c6-460c-8aa4-7e3680dfa486,id=0f85809c-c284-4c21-b4ac-59e46def64cd; trace=b5d66100-51c6-460c-8aa4-7e3680dfa486,id=88cf3b7e-db04-4729-a939-5cbfc400868a; trace=b5d66100-51c6-460c-8aa4-7e3680dfa486,id=ac512acd-3d37-45ec-8243-2fba69ebd02e; trace=b5d66100-51c6-460c-8aa4-7e3680dfa486,id=c8db4ea9-35a6-4192-ae9a-81b7d1daf11f; trace=b5d66100-51c6-460c-8aa4-7e3680dfa486,id=64338fd4-8969-4442-bf55-03b558ebbff2; trace=b5d66100-51c6-460c-8aa4-7e3680dfa486,id=cef91cee-be8d-45e4-86e3-fd875834f5a4; trace=b5d66100-51c6-460c-8aa4-7e3680dfa486,id=72d980a0-242f-434c-b076-cebb0aba0f39; trace=b5d66100-51c6-460c-8aa4-7e3680dfa486,id=a0b15809-f58f-497f-9bfc-c24177e6b9db; trace=b5d66100-51c6-460c-8aa4-7e3680dfa486,id=59284ebf-e2e0-4439-bc80-7e320e4ca782; trace=b5d66100-51c6-460c-8aa4-7e3680dfa486,id=a20cd27f-9064-43fd-83ce-3c535fd21969; trace=b5d66100-51c6-460c-8aa4-7e3680dfa486,id=5d1f1b04-50cd-402b-bdf7-e26f2fb6194b; trace=b5d66100-51c6-460c-8aa4-7e3680dfa486,id=d5691f65-bd94-4fba-a0fb-ae5ecc94c044\n",
      "Failed to batch ingest runs: langsmith.utils.LangSmithConnectionError: Connection error caused failure to POST https://api.smth.langchain.com/runs/batch in LangSmith API. Please confirm your LANGCHAIN_ENDPOINT. ConnectionError(MaxRetryError('HTTPSConnectionPool(host=\\'api.smth.langchain.com\\', port=443): Max retries exceeded with url: /runs/batch (Caused by NameResolutionError(\"<urllib3.connection.HTTPSConnection object at 0x00000198355A6ED0>: Failed to resolve \\'api.smth.langchain.com\\' ([Errno 11001] getaddrinfo failed)\"))'))\n",
      "Content-Length: 87490\n",
      "API Key: lsv2_********************************************6c\n",
      "post: trace=98ad2539-8977-4bec-8e45-51a92160b52d,id=98ad2539-8977-4bec-8e45-51a92160b52d; trace=98ad2539-8977-4bec-8e45-51a92160b52d,id=509103f3-2f33-439c-8e0d-f9de148f2453; trace=98ad2539-8977-4bec-8e45-51a92160b52d,id=1a103f77-c919-4d18-964e-2ff3d7b8d33d; trace=98ad2539-8977-4bec-8e45-51a92160b52d,id=105bbc84-ff0a-4a7e-9507-ab888c03f29a; trace=98ad2539-8977-4bec-8e45-51a92160b52d,id=a81492e5-bc48-4175-84eb-594eb4e6c2aa; trace=98ad2539-8977-4bec-8e45-51a92160b52d,id=b53e3804-771a-4f77-a43c-3dc886c97ca3; trace=98ad2539-8977-4bec-8e45-51a92160b52d,id=33c42c29-3d6f-4187-9338-93400b2a3b26; trace=98ad2539-8977-4bec-8e45-51a92160b52d,id=df932818-b3e7-4575-b979-12eaba6ca288; trace=98ad2539-8977-4bec-8e45-51a92160b52d,id=4c29adec-a882-4a3c-bba5-345d52d3696d; trace=98ad2539-8977-4bec-8e45-51a92160b52d,id=6120292b-1bfb-4747-b798-e323dfc98f32; trace=98ad2539-8977-4bec-8e45-51a92160b52d,id=71d20b59-671d-4503-affe-05873be88658; trace=98ad2539-8977-4bec-8e45-51a92160b52d,id=9b515b97-11df-4d32-ac24-3bb1e4785166; trace=98ad2539-8977-4bec-8e45-51a92160b52d,id=23b56a4e-7e52-4c93-9040-69eeb6c4b31e; trace=5cea0a41-49df-4e77-8fcd-f25bfaaf1450,id=5cea0a41-49df-4e77-8fcd-f25bfaaf1450; trace=5cea0a41-49df-4e77-8fcd-f25bfaaf1450,id=55ff8b50-b002-43b7-97c5-3ca1892d0afc; trace=5cea0a41-49df-4e77-8fcd-f25bfaaf1450,id=b26dc1a7-b9f8-4d3b-8396-96f535c6e702; trace=5cea0a41-49df-4e77-8fcd-f25bfaaf1450,id=223c0554-9c93-4cf5-83c4-759e2319f8d1; trace=5cea0a41-49df-4e77-8fcd-f25bfaaf1450,id=8d1b7b1d-1abb-4bc7-83e8-a5ee1aae23d4; trace=5cea0a41-49df-4e77-8fcd-f25bfaaf1450,id=fa169529-cda8-4927-94d2-5eabd6e33bd6; trace=5cea0a41-49df-4e77-8fcd-f25bfaaf1450,id=bf70f453-4ae1-4d94-9de9-e972ff0be7ea; trace=5cea0a41-49df-4e77-8fcd-f25bfaaf1450,id=06f8c054-204d-4840-b79c-c07d0d2c0a16; trace=5cea0a41-49df-4e77-8fcd-f25bfaaf1450,id=9f2ebee3-dc1d-48f8-816d-65b539cc98de; trace=5cea0a41-49df-4e77-8fcd-f25bfaaf1450,id=cbb80194-1cf1-47ae-9322-38fa6cbc60fc; trace=5cea0a41-49df-4e77-8fcd-f25bfaaf1450,id=555c7ccf-5175-42af-a284-e6e29efbb61b; trace=5cea0a41-49df-4e77-8fcd-f25bfaaf1450,id=c2ccf3cc-21f5-404f-82bd-2c10e1f875e3; trace=5cea0a41-49df-4e77-8fcd-f25bfaaf1450,id=36ba6e3b-a2ca-4fa0-bb6e-a284c659d045; trace=8bfbe7fd-dfa9-435a-b8f6-582568cf3444,id=8bfbe7fd-dfa9-435a-b8f6-582568cf3444; trace=8bfbe7fd-dfa9-435a-b8f6-582568cf3444,id=eeb937f2-9f38-4621-a72f-0d862863fc46; trace=8bfbe7fd-dfa9-435a-b8f6-582568cf3444,id=45ab0422-4dad-45dd-9f5c-98919c478e3b; trace=8bfbe7fd-dfa9-435a-b8f6-582568cf3444,id=fe94e61f-4c87-412a-91e6-6839a8631255\n",
      "Failed to batch ingest runs: langsmith.utils.LangSmithConnectionError: Connection error caused failure to POST https://api.smth.langchain.com/runs/batch in LangSmith API. Please confirm your LANGCHAIN_ENDPOINT. ConnectionError(MaxRetryError('HTTPSConnectionPool(host=\\'api.smth.langchain.com\\', port=443): Max retries exceeded with url: /runs/batch (Caused by NameResolutionError(\"<urllib3.connection.HTTPSConnection object at 0x00000198355A5210>: Failed to resolve \\'api.smth.langchain.com\\' ([Errno 11001] getaddrinfo failed)\"))'))\n",
      "Content-Length: 53485\n",
      "API Key: lsv2_********************************************6c\n",
      "post: trace=8bfbe7fd-dfa9-435a-b8f6-582568cf3444,id=8f939221-c490-4d27-8ff2-f087d58d6df8; trace=8bfbe7fd-dfa9-435a-b8f6-582568cf3444,id=6d2c743e-52b6-4bf0-b4c0-06e38497f0df; trace=8bfbe7fd-dfa9-435a-b8f6-582568cf3444,id=623b8fa1-0ed4-4319-bc5a-798e8dc20d48; trace=8bfbe7fd-dfa9-435a-b8f6-582568cf3444,id=c74a976e-5d9e-49e5-a1f5-1da97d5f9ebb; trace=8bfbe7fd-dfa9-435a-b8f6-582568cf3444,id=786847b2-a8e2-4369-b227-98efe62ae8b1; trace=8bfbe7fd-dfa9-435a-b8f6-582568cf3444,id=29303eff-1503-4595-b15c-4bb4f75a45ab; trace=8bfbe7fd-dfa9-435a-b8f6-582568cf3444,id=14b07fdf-6304-440c-85e5-472b4c442d2b; trace=8bfbe7fd-dfa9-435a-b8f6-582568cf3444,id=bb90c350-e0bf-4f14-a92d-bb5cd5448c3e; trace=8bfbe7fd-dfa9-435a-b8f6-582568cf3444,id=ff7367e4-f14b-4b11-a6f4-ba9ac7d6eda3; patch: trace=8bfbe7fd-dfa9-435a-b8f6-582568cf3444,id=8bfbe7fd-dfa9-435a-b8f6-582568cf3444; trace=8bfbe7fd-dfa9-435a-b8f6-582568cf3444,id=45ab0422-4dad-45dd-9f5c-98919c478e3b; trace=8bfbe7fd-dfa9-435a-b8f6-582568cf3444,id=fe94e61f-4c87-412a-91e6-6839a8631255\n"
     ]
    }
   ],
   "source": [
    "messages = [HumanMessage(content=\"Add 3 and 4.\")]\n",
    "messages = react_graph.invoke({\"messages\": messages})\n",
    "for m in messages['messages']:\n",
    "    m.pretty_print()"
   ]
  },
  {
   "cell_type": "markdown",
   "id": "92f8128c-f4a5-4dee-b20b-3245bd33f6b3",
   "metadata": {},
   "source": [
    "Now, let's multiply by 2!"
   ]
  },
  {
   "cell_type": "code",
   "execution_count": 8,
   "id": "b41cc1d7-e6de-4d86-8958-8cf7446f4c22",
   "metadata": {},
   "outputs": [
    {
     "name": "stdout",
     "output_type": "stream",
     "text": [
      "================================\u001b[1m Human Message \u001b[0m=================================\n",
      "\n",
      "Multiply that by 2.\n",
      "==================================\u001b[1m Ai Message \u001b[0m==================================\n",
      "Tool Calls:\n",
      "  multiply (call_40Yd9fa7AKgc0VY73w9un2KY)\n",
      " Call ID: call_40Yd9fa7AKgc0VY73w9un2KY\n",
      "  Args:\n",
      "    a: 10\n",
      "    b: 2\n",
      "=================================\u001b[1m Tool Message \u001b[0m=================================\n",
      "Name: multiply\n",
      "\n",
      "20\n",
      "==================================\u001b[1m Ai Message \u001b[0m==================================\n",
      "\n",
      "The result of multiplying 10 by 2 is 20.\n"
     ]
    }
   ],
   "source": [
    "messages = [HumanMessage(content=\"Multiply that by 2.\")]\n",
    "messages = react_graph.invoke({\"messages\": messages})\n",
    "for m in messages['messages']:\n",
    "    m.pretty_print()"
   ]
  },
  {
   "cell_type": "markdown",
   "id": "26e65f3c-e1dc-4a62-b8ab-02b33a6ff268",
   "metadata": {},
   "source": [
    "We don't retain memory of 7 from our initial chat!\n",
    "\n",
    "This is because [state is transient](https://github.com/langchain-ai/langgraph/discussions/352#discussioncomment-9291220) to a single graph execution.\n",
    "\n",
    "Of course, this limits our ability to have multi-turn conversations with interruptions. \n",
    "\n",
    "We can use [persistence](https://langchain-ai.github.io/langgraph/how-tos/persistence/) to address this! \n",
    "\n",
    "LangGraph can use a checkpointer to automatically save the graph state after each step.\n",
    "\n",
    "This built-in persistence layer gives us memory, allowing LangGraph to pick up from the last state update. \n",
    "\n",
    "One of the easiest checkpointers to use is the `MemorySaver`, an in-memory key-value store for Graph state.\n",
    "\n",
    "All we need to do is simply compile the graph with a checkpointer, and our graph has memory!"
   ]
  },
  {
   "cell_type": "code",
   "execution_count": 9,
   "id": "637fcd79-3896-42e4-9131-e03b123a0a90",
   "metadata": {},
   "outputs": [],
   "source": [
    "from langgraph.checkpoint.memory import MemorySaver\n",
    "memory = MemorySaver()\n",
    "react_graph_memory = builder.compile(checkpointer=memory)"
   ]
  },
  {
   "attachments": {},
   "cell_type": "markdown",
   "id": "ff8fc3bf-3999-47cb-af34-06b2b94d7192",
   "metadata": {},
   "source": [
    "When we use memory, we need to specify a `thread_id`.\n",
    "\n",
    "This `thread_id` will store our collection of graph states.\n",
    "\n",
    "Here is a cartoon:\n",
    "\n",
    "* The checkpointer write the state at every step of the graph\n",
    "* These checkpoints are saved in a thread \n",
    "* We can access that thread in the future using the `thread_id`\n",
    "\n",
    "![state.jpg](https://cdn.prod.website-files.com/65b8cd72835ceeacd4449a53/66e0e9f526b41a4ed9e2d28b_agent-memory2.png)\n"
   ]
  },
  {
   "cell_type": "code",
   "execution_count": 10,
   "id": "f722a1d6-e73c-4023-86ed-8b07d392278d",
   "metadata": {},
   "outputs": [
    {
     "name": "stdout",
     "output_type": "stream",
     "text": [
      "================================\u001b[1m Human Message \u001b[0m=================================\n",
      "\n",
      "Add 3 and 4.\n",
      "==================================\u001b[1m Ai Message \u001b[0m==================================\n",
      "Tool Calls:\n",
      "  add (call_ldNALQIrXzocDyRC3CJNc9C2)\n",
      " Call ID: call_ldNALQIrXzocDyRC3CJNc9C2\n",
      "  Args:\n",
      "    a: 3\n",
      "    b: 4\n",
      "=================================\u001b[1m Tool Message \u001b[0m=================================\n",
      "Name: add\n",
      "\n",
      "7\n",
      "==================================\u001b[1m Ai Message \u001b[0m==================================\n",
      "\n",
      "The sum of 3 and 4 is 7.\n"
     ]
    }
   ],
   "source": [
    "# Specify a thread\n",
    "config = {\"configurable\": {\"thread_id\": \"1\"}}\n",
    "\n",
    "# Specify an input\n",
    "messages = [HumanMessage(content=\"Add 3 and 4.\")]\n",
    "\n",
    "# Run\n",
    "messages = react_graph_memory.invoke({\"messages\": messages},config)\n",
    "for m in messages['messages']:\n",
    "    m.pretty_print()"
   ]
  },
  {
   "cell_type": "markdown",
   "id": "c91a8a16-6bf1-48e2-a889-ae04a37c7a2b",
   "metadata": {},
   "source": [
    "If we pass the same `thread_id`, then we can proceed from from the previously logged state checkpoint! \n",
    "\n",
    "In this case, the above conversation is captured in the thread.\n",
    "\n",
    "The `HumanMessage` we pass (`\"Multiply that by 2.\"`) is appended to the above conversation.\n",
    "\n",
    "So, the model now know that `that` refers to the `The sum of 3 and 4 is 7.`."
   ]
  },
  {
   "cell_type": "code",
   "execution_count": 11,
   "id": "ee38c6ef-8bfb-4c66-9214-6f474c9b8451",
   "metadata": {},
   "outputs": [
    {
     "name": "stdout",
     "output_type": "stream",
     "text": [
      "================================\u001b[1m Human Message \u001b[0m=================================\n",
      "\n",
      "Add 3 and 4.\n",
      "==================================\u001b[1m Ai Message \u001b[0m==================================\n",
      "Tool Calls:\n",
      "  add (call_ldNALQIrXzocDyRC3CJNc9C2)\n",
      " Call ID: call_ldNALQIrXzocDyRC3CJNc9C2\n",
      "  Args:\n",
      "    a: 3\n",
      "    b: 4\n",
      "=================================\u001b[1m Tool Message \u001b[0m=================================\n",
      "Name: add\n",
      "\n",
      "7\n",
      "==================================\u001b[1m Ai Message \u001b[0m==================================\n",
      "\n",
      "The sum of 3 and 4 is 7.\n",
      "================================\u001b[1m Human Message \u001b[0m=================================\n",
      "\n",
      "Multiply that by 2.\n",
      "==================================\u001b[1m Ai Message \u001b[0m==================================\n",
      "Tool Calls:\n",
      "  multiply (call_q4cNCPMOcVRo0BYzfT3uIIQb)\n",
      " Call ID: call_q4cNCPMOcVRo0BYzfT3uIIQb\n",
      "  Args:\n",
      "    a: 7\n",
      "    b: 2\n",
      "=================================\u001b[1m Tool Message \u001b[0m=================================\n",
      "Name: multiply\n",
      "\n",
      "14\n",
      "==================================\u001b[1m Ai Message \u001b[0m==================================\n",
      "\n",
      "The result of multiplying 7 by 2 is 14.\n"
     ]
    }
   ],
   "source": [
    "messages = [HumanMessage(content=\"Multiply that by 2.\")]\n",
    "messages = react_graph_memory.invoke({\"messages\": messages}, config)\n",
    "for m in messages['messages']:\n",
    "    m.pretty_print()"
   ]
  },
  {
   "cell_type": "markdown",
   "id": "c4b7774e-566f-4c92-9429-ed953bcacaa5",
   "metadata": {},
   "source": [
    "## LangGraph Studio\n",
    "\n",
    "--\n",
    "\n",
    "**⚠️ DISCLAIMER**\n",
    "\n",
    "*Running Studio currently requires a Mac. If you are not using a Mac, then skip this step.*\n",
    "\n",
    "--\n",
    "\n",
    "Load the `agent` in the UI, which uses `module-1/studio/agent.py` set in `module-1/studio/langgraph.json`."
   ]
  },
  {
   "cell_type": "code",
   "execution_count": null,
   "id": "6d72986c-ff6f-4f81-b585-d268e2710e53",
   "metadata": {},
   "outputs": [],
   "source": []
  }
 ],
 "metadata": {
  "kernelspec": {
   "display_name": "langchain",
   "language": "python",
   "name": "python3"
  },
  "language_info": {
   "codemirror_mode": {
    "name": "ipython",
    "version": 3
   },
   "file_extension": ".py",
   "mimetype": "text/x-python",
   "name": "python",
   "nbconvert_exporter": "python",
   "pygments_lexer": "ipython3",
   "version": "3.11.10"
  }
 },
 "nbformat": 4,
 "nbformat_minor": 5
}
