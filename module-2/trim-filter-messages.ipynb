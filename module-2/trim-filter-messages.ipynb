{
 "cells": [
  {
   "cell_type": "markdown",
   "id": "fb0ebaf1",
   "metadata": {},
   "source": [
    "[![Open in Colab](https://colab.research.google.com/assets/colab-badge.svg)](https://colab.research.google.com/github/langchain-ai/langchain-academy/blob/main/module-2/trim-filter-messages.ipynb) [![Open in LangChain Academy](https://cdn.prod.website-files.com/65b8cd72835ceeacd4449a53/66e9eba12c7b7688aa3dbb5e_LCA-badge-green.svg)](https://academy.langchain.com/courses/take/intro-to-langgraph/lessons/58239435-lesson-4-trim-and-filter-messages)"
   ]
  },
  {
   "cell_type": "markdown",
   "id": "c52ea2f9-03ff-4647-b782-46867ebed04e",
   "metadata": {},
   "source": [
    "# Filtering and trimming messages\n",
    "\n",
    "## Review\n",
    "\n",
    "Now, we have a deeper understanding of a few things: \n",
    "\n",
    "* How to customize the graph state schema\n",
    "* How to define custom state reducers\n",
    "* How to use multiple graph state schemas\n",
    "\n",
    "## Goals\n",
    "\n",
    "Now, we can start using these concepts with models in LangGraph!\n",
    " \n",
    "In the next few sessions, we'll build towards a chatbot that has long-term memory.\n",
    "\n",
    "Because our chatbot will use messages, let's first talk a bit more about advanced ways to work with messages in graph state."
   ]
  },
  {
   "cell_type": "code",
   "execution_count": 1,
   "id": "d5197aba-5d46-421b-ae3b-4e3034edcfda",
   "metadata": {},
   "outputs": [],
   "source": [
    "%%capture --no-stderr\n",
    "%pip install --quiet -U langchain_core langgraph langchain_openai"
   ]
  },
  {
   "cell_type": "code",
   "execution_count": 2,
   "id": "768dc606-d5f2-468d-96ea-910b264e0f8a",
   "metadata": {},
   "outputs": [],
   "source": [
    "import os, getpass\n",
    "\n",
    "def _set_env(var: str):\n",
    "    #os.environ.pop(var, None)  # Removes var if it exists, does nothing otherwise\n",
    "    \n",
    "    if not os.environ.get(var):\n",
    "        os.environ[var] = getpass.getpass(f\"{var}: \")"
   ]
  },
  {
   "cell_type": "markdown",
   "id": "8b64d8d3-e4ac-4961-bdc0-688825eb5864",
   "metadata": {},
   "source": [
    "We'll use [LangSmith](https://docs.smith.langchain.com/) for [tracing](https://docs.smith.langchain.com/concepts/tracing).\n",
    "\n",
    "We'll log to a project, `langchain-academy`. "
   ]
  },
  {
   "cell_type": "code",
   "execution_count": 3,
   "id": "dd020c79",
   "metadata": {},
   "outputs": [],
   "source": [
    "_set_env(\"OPENAI_API_KEY\")\n",
    "_set_env(\"LANGCHAIN_API_KEY\")\n",
    "\n",
    "os.environ.pop(\"LANGCHAIN_TRACING_V2\", None) \n",
    "os.environ[\"LANGCHAIN_TRACING_V2\"] = \"true\"\n",
    "os.environ.pop(\"LANGCHAIN_PROJECT\", None) \n",
    "os.environ[\"LANGCHAIN_PROJECT\"] = \"langchain-academy\"\n",
    "os.environ.pop(\"LANGCHAIN_ENDPOINT\", None) \n",
    "os.environ[\"LANGCHAIN_ENDPOINT\"] = \"https://api.smith.langchain.com\""
   ]
  },
  {
   "cell_type": "markdown",
   "id": "72f3fc90-58b6-4f7f-897e-dddf6ae532c7",
   "metadata": {},
   "source": [
    "## Messages as state\n",
    "\n",
    "First, let's define some messages."
   ]
  },
  {
   "cell_type": "code",
   "execution_count": 4,
   "id": "cf11a463-e27a-4a05-b41d-64882e38edca",
   "metadata": {},
   "outputs": [
    {
     "name": "stdout",
     "output_type": "stream",
     "text": [
      "==================================\u001b[1m Ai Message \u001b[0m==================================\n",
      "Name: Bot\n",
      "\n",
      "So you said you were researching ocean mammals?\n",
      "================================\u001b[1m Human Message \u001b[0m=================================\n",
      "Name: Lance\n",
      "\n",
      "Yes, I know about whales. But what others should I learn about?\n"
     ]
    }
   ],
   "source": [
    "from pprint import pprint\n",
    "from langchain_core.messages import AIMessage, HumanMessage\n",
    "messages = [AIMessage(f\"So you said you were researching ocean mammals?\", name=\"Bot\")]\n",
    "messages.append(HumanMessage(f\"Yes, I know about whales. But what others should I learn about?\", name=\"Lance\"))\n",
    "\n",
    "for m in messages:\n",
    "    m.pretty_print()"
   ]
  },
  {
   "cell_type": "markdown",
   "id": "b814adcb-6bf9-4b75-be11-e59f933fbd0c",
   "metadata": {},
   "source": [
    "Recall we can pass them to a chat model."
   ]
  },
  {
   "cell_type": "code",
   "execution_count": null,
   "id": "4712e288-e622-48a2-ad3f-a52f65f3ab08",
   "metadata": {},
   "outputs": [
    {
     "name": "stdout",
     "output_type": "stream",
     "text": [
      "content='There are many fascinating ocean mammals besides whales that you might want to explore. Here are a few:\\n\\n1. **Dolphins**: Known for their intelligence and playful behavior, dolphins are closely related to whales and are found in many oceans worldwide.\\n\\n2. **Porpoises**: Similar to dolphins, porpoises are smaller and have different facial features. They are generally shyer than dolphins.\\n\\n3. **Seals**: These are semi-aquatic marine mammals that spend a lot of time both in the water and on land. There are various species, including harbor seals and elephant seals.\\n\\n4. **Sea Lions**: Often confused with seals, sea lions are more agile on land due to their rotating hind flippers and external ear flaps.\\n\\n5. **Walruses**: Known for their distinctive tusks, walruses are large marine mammals that live in the Arctic and sub-Arctic regions.\\n\\n6. **Manatees**: Sometimes called sea cows, manatees are gentle, slow-moving herbivores found in warm coastal waters and rivers.\\n\\n7. **Dugongs**: Closely related to manatees, dugongs are found in warm coastal waters of the Indian and Pacific Oceans.\\n\\n8. **Sea Otters**: While not fully aquatic, sea otters spend most of their time in the water and are known for their use of tools to open shellfish.\\n\\n9. **Polar Bears**: Though primarily land mammals, polar bears are excellent swimmers and spend a significant amount of time in Arctic waters hunting for seals.\\n\\n10. **Sperm Whales**: These are the largest toothed predators on Earth and are known for their deep diving abilities.\\n\\nEach of these marine mammals has unique adaptations and behaviors that make them fascinating subjects of study.' additional_kwargs={'refusal': None} response_metadata={'token_usage': {'completion_tokens': 363, 'prompt_tokens': 39, 'total_tokens': 402, 'completion_tokens_details': {'accepted_prediction_tokens': 0, 'audio_tokens': 0, 'reasoning_tokens': 0, 'rejected_prediction_tokens': 0}, 'prompt_tokens_details': {'audio_tokens': 0, 'cached_tokens': 0}}, 'model_name': 'gpt-4o-2024-08-06', 'system_fingerprint': 'fp_7f6be3efb0', 'finish_reason': 'stop', 'logprobs': None} id='run-d21f6c33-db3a-4a9d-9460-f0948cff8629-0' usage_metadata={'input_tokens': 39, 'output_tokens': 363, 'total_tokens': 402, 'input_token_details': {'audio': 0, 'cache_read': 0}, 'output_token_details': {'audio': 0, 'reasoning': 0}}\n"
     ]
    }
   ],
   "source": [
    "from langchain_openai import ChatOpenAI\n",
    "from langchain.callbacks.tracers.langchain import wait_for_all_tracers\n",
    "llm = ChatOpenAI(model=\"gpt-3.5-turbo-0125\")\n",
    "#llm = ChatOpenAI(model=\"gpt-4o\")\n",
    "try:\n",
    "    response = llm.invoke(messages)\n",
    "    print(response)\n",
    "finally:\n",
    "    wait_for_all_tracers()"
   ]
  },
  {
   "cell_type": "markdown",
   "id": "fbd1dab8-0af8-4621-8264-ce65065f76ec",
   "metadata": {},
   "source": [
    "We can run our chat model in a simple graph with `MessagesState`."
   ]
  },
  {
   "cell_type": "code",
   "execution_count": 6,
   "id": "bbd8c39c-633b-4176-9cc6-8318e42bb5dd",
   "metadata": {},
   "outputs": [
    {
     "data": {
      "image/png": "[encoded data removed]",
      "text/plain": [
       "<IPython.core.display.Image object>"
      ]
     },
     "metadata": {},
     "output_type": "display_data"
    }
   ],
   "source": [
    "from IPython.display import Image, display\n",
    "from langgraph.graph import MessagesState\n",
    "from langgraph.graph import StateGraph, START, END\n",
    "\n",
    "# Node\n",
    "def chat_model_node(state: MessagesState):\n",
    "    return {\"messages\": llm.invoke(state[\"messages\"])}\n",
    "\n",
    "# Build graph\n",
    "builder = StateGraph(MessagesState)\n",
    "builder.add_node(\"chat_model\", chat_model_node)\n",
    "builder.add_edge(START, \"chat_model\")\n",
    "builder.add_edge(\"chat_model\", END)\n",
    "graph = builder.compile()\n",
    "\n",
    "# View\n",
    "display(Image(graph.get_graph().draw_mermaid_png()))"
   ]
  },
  {
   "cell_type": "code",
   "execution_count": 7,
   "id": "3a5a3e4a-ccfd-4d14-81f1-f0de6e11a1e4",
   "metadata": {},
   "outputs": [
    {
     "name": "stdout",
     "output_type": "stream",
     "text": [
      "==================================\u001b[1m Ai Message \u001b[0m==================================\n",
      "Name: Bot\n",
      "\n",
      "So you said you were researching ocean mammals?\n",
      "================================\u001b[1m Human Message \u001b[0m=================================\n",
      "Name: Lance\n",
      "\n",
      "Yes, I know about whales. But what others should I learn about?\n",
      "==================================\u001b[1m Ai Message \u001b[0m==================================\n",
      "\n",
      "In addition to whales, there are several other fascinating ocean mammals you might want to explore:\n",
      "\n",
      "1. **Dolphins**: Highly intelligent and social creatures, dolphins are known for their playful behavior and complex communication systems. There are several species, including the bottlenose dolphin and the orca, or killer whale, which is actually the largest member of the dolphin family.\n",
      "\n",
      "2. **Porpoises**: Often confused with dolphins, porpoises are smaller and have different dental and facial structures. They tend to be shyer than dolphins and are found in various oceanic regions.\n",
      "\n",
      "3. **Seals**: These pinnipeds include a variety of species, such as the harbor seal and the elephant seal. They are adapted to life both in water and on land, using their flippers to move in both environments.\n",
      "\n",
      "4. **Sea Lions**: Another type of pinniped, sea lions are more social and vocal than seals. They are known for their external ear flaps and their ability to \"walk\" on land using their large flippers.\n",
      "\n",
      "5. **Walruses**: Recognizable by their long tusks and whiskers, walruses are large marine mammals that inhabit Arctic regions. They use their tusks to help them climb out of the water and onto ice.\n",
      "\n",
      "6. **Manatees and Dugongs**: These gentle herbivores, also known as sea cows, are found in warm coastal waters. Manatees are typically found in the Atlantic, while dugongs are found in the Indo-Pacific region.\n",
      "\n",
      "7. **Sea Otters**: Although not fully marine like the others, sea otters spend a significant amount of time in the water. They are known for their use of tools to open shellfish and their role in maintaining kelp forest ecosystems.\n",
      "\n",
      "8. **Polar Bears**: While primarily land-based, polar bears are excellent swimmers and depend heavily on the ocean for hunting seals, their primary food source.\n",
      "\n",
      "Each of these mammals has unique adaptations and behaviors that make them interesting subjects for study.\n"
     ]
    }
   ],
   "source": [
    "output = graph.invoke({'messages': messages})\n",
    "for m in output['messages']:\n",
    "    m.pretty_print()"
   ]
  },
  {
   "cell_type": "markdown",
   "id": "34c33e63-1ef4-412d-bb10-6a1b9e5b35a7",
   "metadata": {},
   "source": [
    "## Reducer\n",
    "\n",
    "A practical challenge when working with messages is managing long-running conversations. \n",
    "\n",
    "Long-running conversations result in high token usage and latency if we are not careful, because we pass a growing list of messages to the model.\n",
    "\n",
    "We have a few ways to address this.\n",
    "\n",
    "First, recall the trick we saw using `RemoveMessage` and the `add_messages` reducer."
   ]
  },
  {
   "cell_type": "code",
   "execution_count": 8,
   "id": "222c6bc5-bb0e-4a43-80f5-c8ec38d99f3a",
   "metadata": {},
   "outputs": [
    {
     "data": {
      "image/png": "[encoded data removed]",
      "text/plain": [
       "<IPython.core.display.Image object>"
      ]
     },
     "metadata": {},
     "output_type": "display_data"
    }
   ],
   "source": [
    "from langchain_core.messages import RemoveMessage\n",
    "\n",
    "# Nodes\n",
    "def filter_messages(state: MessagesState):\n",
    "    # Delete all but the 2 most recent messages\n",
    "    delete_messages = [RemoveMessage(id=m.id) for m in state[\"messages\"][:-2]]\n",
    "    return {\"messages\": delete_messages}\n",
    "\n",
    "def chat_model_node(state: MessagesState):    \n",
    "    return {\"messages\": [llm.invoke(state[\"messages\"])]}\n",
    "\n",
    "# Build graph\n",
    "builder = StateGraph(MessagesState)\n",
    "builder.add_node(\"filter\", filter_messages)\n",
    "builder.add_node(\"chat_model\", chat_model_node)\n",
    "builder.add_edge(START, \"filter\")\n",
    "builder.add_edge(\"filter\", \"chat_model\")\n",
    "builder.add_edge(\"chat_model\", END)\n",
    "graph = builder.compile()\n",
    "\n",
    "# View\n",
    "display(Image(graph.get_graph().draw_mermaid_png()))"
   ]
  },
  {
   "cell_type": "code",
   "execution_count": 9,
   "id": "95a7c2cc-54ce-43e7-9a90-abf37827d709",
   "metadata": {},
   "outputs": [
    {
     "name": "stdout",
     "output_type": "stream",
     "text": [
      "==================================\u001b[1m Ai Message \u001b[0m==================================\n",
      "Name: Bot\n",
      "\n",
      "So you said you were researching ocean mammals?\n",
      "================================\u001b[1m Human Message \u001b[0m=================================\n",
      "Name: Lance\n",
      "\n",
      "Yes, I know about whales. But what others should I learn about?\n",
      "==================================\u001b[1m Ai Message \u001b[0m==================================\n",
      "\n",
      "In addition to whales, there are several fascinating ocean mammals you might want to explore:\n",
      "\n",
      "1. **Dolphins**: Known for their intelligence and playful behavior, dolphins are found in many oceans and rivers worldwide. Species include the bottlenose dolphin, common dolphin, and the orca (also known as the killer whale, though it’s technically a dolphin).\n",
      "\n",
      "2. **Porpoises**: Similar to dolphins but generally smaller and with different facial features, porpoises are another interesting group of marine mammals.\n",
      "\n",
      "3. **Seals**: These are semi-aquatic marine mammals with species such as the harbor seal and the grey seal. They are known for their streamlined bodies and ability to move efficiently in water.\n",
      "\n",
      "4. **Sea Lions**: Often confused with seals, sea lions are more social and have external ear flaps, whereas true seals do not.\n",
      "\n",
      "5. **Walruses**: Recognizable by their long tusks and whiskers, walruses are large marine mammals that live in Arctic regions.\n",
      "\n",
      "6. **Manatees and Dugongs**: Often referred to as sea cows, these gentle giants are herbivorous and live in shallow coastal waters and rivers.\n",
      "\n",
      "7. **Sea Otters**: Known for their use of tools and dense fur, sea otters are a keystone species in their environment, often found along the coasts of the northern and eastern North Pacific Ocean.\n",
      "\n",
      "8. **Polar Bears**: While primarily terrestrial, polar bears are classified as marine mammals because they spend much of their time on sea ice and are excellent swimmers.\n",
      "\n",
      "Each of these mammals plays an essential role in their ecosystems and has unique adaptations that enable them to thrive in marine environments.\n"
     ]
    }
   ],
   "source": [
    "# Message list with a preamble\n",
    "messages = [AIMessage(\"Hi.\", name=\"Bot\", id=\"1\")]\n",
    "messages.append(HumanMessage(\"Hi.\", name=\"Lance\", id=\"2\"))\n",
    "messages.append(AIMessage(\"So you said you were researching ocean mammals?\", name=\"Bot\", id=\"3\"))\n",
    "messages.append(HumanMessage(\"Yes, I know about whales. But what others should I learn about?\", name=\"Lance\", id=\"4\"))\n",
    "\n",
    "# Invoke\n",
    "output = graph.invoke({'messages': messages})\n",
    "for m in output['messages']:\n",
    "    m.pretty_print()"
   ]
  },
  {
   "cell_type": "markdown",
   "id": "f506457d-014b-4fee-a684-e5edfb4b8f0d",
   "metadata": {},
   "source": [
    "## Filtering messages\n",
    "\n",
    "If you don't need or want to modify the graph state, you can just filter the messages you pass to the chat model.\n",
    "\n",
    "For example, just pass in a filtered list: `llm.invoke(messages[-1:])` to the model."
   ]
  },
  {
   "cell_type": "code",
   "execution_count": 10,
   "id": "22d0b904-7cd6-486b-8948-105bee3d4683",
   "metadata": {},
   "outputs": [
    {
     "data": {
      "image/png": "[encoded data removed]",
      "text/plain": [
       "<IPython.core.display.Image object>"
      ]
     },
     "metadata": {},
     "output_type": "display_data"
    }
   ],
   "source": [
    "# Node\n",
    "def chat_model_node(state: MessagesState):\n",
    "    return {\"messages\": [llm.invoke(state[\"messages\"][-1:])]}\n",
    "\n",
    "# Build graph\n",
    "builder = StateGraph(MessagesState)\n",
    "builder.add_node(\"chat_model\", chat_model_node)\n",
    "builder.add_edge(START, \"chat_model\")\n",
    "builder.add_edge(\"chat_model\", END)\n",
    "graph = builder.compile()\n",
    "\n",
    "# View\n",
    "display(Image(graph.get_graph().draw_mermaid_png()))"
   ]
  },
  {
   "cell_type": "markdown",
   "id": "6f58c6fc-532f-418d-b70a-cfcb3307daf5",
   "metadata": {},
   "source": [
    "Let's take our existing list of messages, append the above LLM response, and append a follow-up question."
   ]
  },
  {
   "cell_type": "code",
   "execution_count": 11,
   "id": "16956015-1dbe-4108-89b5-4209b68b51ca",
   "metadata": {},
   "outputs": [],
   "source": [
    "messages.append(output['messages'][-1])\n",
    "messages.append(HumanMessage(f\"Tell me more about Narwhals!\", name=\"Lance\"))"
   ]
  },
  {
   "cell_type": "code",
   "execution_count": 12,
   "id": "85563415-c085-46a8-a4ac-155df798c54e",
   "metadata": {},
   "outputs": [
    {
     "name": "stdout",
     "output_type": "stream",
     "text": [
      "==================================\u001b[1m Ai Message \u001b[0m==================================\n",
      "Name: Bot\n",
      "\n",
      "Hi.\n",
      "================================\u001b[1m Human Message \u001b[0m=================================\n",
      "Name: Lance\n",
      "\n",
      "Hi.\n",
      "==================================\u001b[1m Ai Message \u001b[0m==================================\n",
      "Name: Bot\n",
      "\n",
      "So you said you were researching ocean mammals?\n",
      "================================\u001b[1m Human Message \u001b[0m=================================\n",
      "Name: Lance\n",
      "\n",
      "Yes, I know about whales. But what others should I learn about?\n",
      "==================================\u001b[1m Ai Message \u001b[0m==================================\n",
      "\n",
      "In addition to whales, there are several fascinating ocean mammals you might want to explore:\n",
      "\n",
      "1. **Dolphins**: Known for their intelligence and playful behavior, dolphins are found in many oceans and rivers worldwide. Species include the bottlenose dolphin, common dolphin, and the orca (also known as the killer whale, though it’s technically a dolphin).\n",
      "\n",
      "2. **Porpoises**: Similar to dolphins but generally smaller and with different facial features, porpoises are another interesting group of marine mammals.\n",
      "\n",
      "3. **Seals**: These are semi-aquatic marine mammals with species such as the harbor seal and the grey seal. They are known for their streamlined bodies and ability to move efficiently in water.\n",
      "\n",
      "4. **Sea Lions**: Often confused with seals, sea lions are more social and have external ear flaps, whereas true seals do not.\n",
      "\n",
      "5. **Walruses**: Recognizable by their long tusks and whiskers, walruses are large marine mammals that live in Arctic regions.\n",
      "\n",
      "6. **Manatees and Dugongs**: Often referred to as sea cows, these gentle giants are herbivorous and live in shallow coastal waters and rivers.\n",
      "\n",
      "7. **Sea Otters**: Known for their use of tools and dense fur, sea otters are a keystone species in their environment, often found along the coasts of the northern and eastern North Pacific Ocean.\n",
      "\n",
      "8. **Polar Bears**: While primarily terrestrial, polar bears are classified as marine mammals because they spend much of their time on sea ice and are excellent swimmers.\n",
      "\n",
      "Each of these mammals plays an essential role in their ecosystems and has unique adaptations that enable them to thrive in marine environments.\n",
      "================================\u001b[1m Human Message \u001b[0m=================================\n",
      "Name: Lance\n",
      "\n",
      "Tell me more about Narwhals!\n"
     ]
    }
   ],
   "source": [
    "for m in messages:\n",
    "    m.pretty_print()"
   ]
  },
  {
   "cell_type": "code",
   "execution_count": 13,
   "id": "23349705-a059-47b5-9760-d8f64e687393",
   "metadata": {},
   "outputs": [
    {
     "name": "stdout",
     "output_type": "stream",
     "text": [
      "==================================\u001b[1m Ai Message \u001b[0m==================================\n",
      "Name: Bot\n",
      "\n",
      "Hi.\n",
      "================================\u001b[1m Human Message \u001b[0m=================================\n",
      "Name: Lance\n",
      "\n",
      "Hi.\n",
      "==================================\u001b[1m Ai Message \u001b[0m==================================\n",
      "Name: Bot\n",
      "\n",
      "So you said you were researching ocean mammals?\n",
      "================================\u001b[1m Human Message \u001b[0m=================================\n",
      "Name: Lance\n",
      "\n",
      "Yes, I know about whales. But what others should I learn about?\n",
      "==================================\u001b[1m Ai Message \u001b[0m==================================\n",
      "\n",
      "In addition to whales, there are several fascinating ocean mammals you might want to explore:\n",
      "\n",
      "1. **Dolphins**: Known for their intelligence and playful behavior, dolphins are found in many oceans and rivers worldwide. Species include the bottlenose dolphin, common dolphin, and the orca (also known as the killer whale, though it’s technically a dolphin).\n",
      "\n",
      "2. **Porpoises**: Similar to dolphins but generally smaller and with different facial features, porpoises are another interesting group of marine mammals.\n",
      "\n",
      "3. **Seals**: These are semi-aquatic marine mammals with species such as the harbor seal and the grey seal. They are known for their streamlined bodies and ability to move efficiently in water.\n",
      "\n",
      "4. **Sea Lions**: Often confused with seals, sea lions are more social and have external ear flaps, whereas true seals do not.\n",
      "\n",
      "5. **Walruses**: Recognizable by their long tusks and whiskers, walruses are large marine mammals that live in Arctic regions.\n",
      "\n",
      "6. **Manatees and Dugongs**: Often referred to as sea cows, these gentle giants are herbivorous and live in shallow coastal waters and rivers.\n",
      "\n",
      "7. **Sea Otters**: Known for their use of tools and dense fur, sea otters are a keystone species in their environment, often found along the coasts of the northern and eastern North Pacific Ocean.\n",
      "\n",
      "8. **Polar Bears**: While primarily terrestrial, polar bears are classified as marine mammals because they spend much of their time on sea ice and are excellent swimmers.\n",
      "\n",
      "Each of these mammals plays an essential role in their ecosystems and has unique adaptations that enable them to thrive in marine environments.\n",
      "================================\u001b[1m Human Message \u001b[0m=================================\n",
      "Name: Lance\n",
      "\n",
      "Tell me more about Narwhals!\n",
      "==================================\u001b[1m Ai Message \u001b[0m==================================\n",
      "\n",
      "Narwhals are fascinating marine mammals known for their distinctive long, spiral tusks, which can grow up to 10 feet (3 meters) in length. These tusks are actually elongated canine teeth and are more commonly found in males, although some females can also grow them. Narwhals are part of the Monodontidae family, which they share with their close relatives, the belugas.\n",
      "\n",
      "Here are some interesting facts about narwhals:\n",
      "\n",
      "1. **Habitat**: Narwhals are primarily found in Arctic waters around Greenland, Canada, and Russia. They thrive in cold environments and are well-adapted to life in icy waters.\n",
      "\n",
      "2. **Diet**: Narwhals primarily feed on fish such as Arctic cod and Greenland halibut, as well as squid and shrimp. They are known to dive to great depths, sometimes over 5,000 feet (1,500 meters), to forage for food.\n",
      "\n",
      "3. **Behavior**: Narwhals are social animals and often travel in groups called pods. These pods can range from a few individuals to several dozen. They are known for their vocalizations, which include clicks, whistles, and other sounds used for communication and echolocation.\n",
      "\n",
      "4. **Tusks**: The narwhal's tusk has been a subject of much curiosity and speculation. It is believed to have sensory capabilities, with millions of nerve endings that may help the narwhal detect changes in its environment. The tusk may also play a role in mating rituals or dominance displays.\n",
      "\n",
      "5. **Conservation**: Narwhals are currently considered \"Near Threatened\" due to concerns about climate change, habitat loss, and hunting. They are traditionally hunted by Indigenous peoples in the Arctic for their meat and tusks, but modern conservation efforts aim to balance these cultural practices with the need to protect narwhal populations.\n",
      "\n",
      "6. **Adaptations**: Narwhals have several adaptations that allow them to survive in the harsh Arctic environment, including a thick layer of blubber for insulation and the ability to reduce their heart rate to conserve oxygen during deep dives.\n",
      "\n",
      "Narwhals are often called the \"unicorns of the sea\" due to their unique tusks, and they continue to capture the imagination of people around the world with their mysterious and elusive nature.\n"
     ]
    }
   ],
   "source": [
    "# Invoke, using message filtering\n",
    "output = graph.invoke({'messages': messages})\n",
    "for m in output['messages']:\n",
    "    m.pretty_print()"
   ]
  },
  {
   "cell_type": "markdown",
   "id": "42e1d8d2-e297-4d78-b54c-d12b3c866745",
   "metadata": {},
   "source": [
    "The state has all of the mesages.\n",
    "\n",
    "But, let's look at the LangSmith trace to see that the model invocation only uses the last message:\n",
    "\n",
    "https://smith.langchain.com/public/75aca3ce-ef19-4b92-94be-0178c7a660d9/r"
   ]
  },
  {
   "cell_type": "markdown",
   "id": "fc40d930-3c1f-47fe-8d2a-ce174873353c",
   "metadata": {},
   "source": [
    "## Trim messages\n",
    "\n",
    "Another approach is to [trim messages](https://python.langchain.com/v0.2/docs/how_to/trim_messages/#getting-the-last-max_tokens-tokens), based upon a set number of tokens. \n",
    "\n",
    "This restricts the message history to a specified number of tokens.\n",
    "\n",
    "While filtering only returns a post-hoc subset of the messages between agents, trimming restricts the number of tokens that a chat model can use to respond.\n",
    "\n",
    "See the `trim_messages` below."
   ]
  },
  {
   "cell_type": "code",
   "execution_count": 14,
   "id": "2ff99b81-cf03-4cc2-b44f-44829a73e1fd",
   "metadata": {},
   "outputs": [
    {
     "data": {
      "image/png": "[encoded data removed]",
      "text/plain": [
       "<IPython.core.display.Image object>"
      ]
     },
     "metadata": {},
     "output_type": "display_data"
    }
   ],
   "source": [
    "from langchain_core.messages import trim_messages\n",
    "\n",
    "# Node\n",
    "def chat_model_node(state: MessagesState):\n",
    "    messages = trim_messages(\n",
    "            state[\"messages\"],\n",
    "            max_tokens=100,\n",
    "            strategy=\"last\",\n",
    "            token_counter=ChatOpenAI(model=\"gpt-3.5-turbo-0125\"),\n",
    "            allow_partial=False,\n",
    "        )\n",
    "    return {\"messages\": [llm.invoke(messages)]}\n",
    "\n",
    "# Build graph\n",
    "builder = StateGraph(MessagesState)\n",
    "builder.add_node(\"chat_model\", chat_model_node)\n",
    "builder.add_edge(START, \"chat_model\")\n",
    "builder.add_edge(\"chat_model\", END)\n",
    "graph = builder.compile()\n",
    "\n",
    "# View\n",
    "display(Image(graph.get_graph().draw_mermaid_png()))"
   ]
  },
  {
   "cell_type": "code",
   "execution_count": 15,
   "id": "24df63ac-da29-4874-b3df-7e390e97cc8a",
   "metadata": {},
   "outputs": [],
   "source": [
    "messages.append(output['messages'][-1])\n",
    "messages.append(HumanMessage(f\"Tell me where Orcas live!\", name=\"Lance\"))"
   ]
  },
  {
   "cell_type": "code",
   "execution_count": 19,
   "id": "6d9d8971-c75c-43ca-a209-eb1d07b2ead0",
   "metadata": {},
   "outputs": [
    {
     "data": {
      "text/plain": [
       "[AIMessage(content='\\nNarwhals are often called the \"unicorns of the sea\" due to their unique tusks, and they continue to capture the imagination of people around the world with their mysterious and elusive nature.', additional_kwargs={'refusal': None}, response_metadata={'token_usage': {'completion_tokens': 466, 'prompt_tokens': 17, 'total_tokens': 483, 'completion_tokens_details': {'accepted_prediction_tokens': 0, 'audio_tokens': 0, 'reasoning_tokens': 0, 'rejected_prediction_tokens': 0}, 'prompt_tokens_details': {'audio_tokens': 0, 'cached_tokens': 0}}, 'model_name': 'gpt-4o-2024-08-06', 'system_fingerprint': 'fp_7f6be3efb0', 'finish_reason': 'stop', 'logprobs': None}, id='run-1178a275-dea4-4aeb-98be-75119e9d1dea-0', usage_metadata={'input_tokens': 17, 'output_tokens': 466, 'total_tokens': 483, 'input_token_details': {'audio': 0, 'cache_read': 0}, 'output_token_details': {'audio': 0, 'reasoning': 0}}),\n",
       " HumanMessage(content='Tell me where Orcas live!', additional_kwargs={}, response_metadata={}, name='Lance', id='5318051c-766a-448a-aee4-acf1a295036e')]"
      ]
     },
     "execution_count": 19,
     "metadata": {},
     "output_type": "execute_result"
    }
   ],
   "source": [
    "# Example of trimming messages\n",
    "trim_messages(\n",
    "            messages,\n",
    "            max_tokens=100,\n",
    "            strategy=\"last\",\n",
    "            token_counter=ChatOpenAI(model=\"gpt-3.5-turbo-0125\"),\n",
    "            allow_partial=True\n",
    "        )"
   ]
  },
  {
   "cell_type": "code",
   "execution_count": 20,
   "id": "ed70a269-a869-4fa0-a1df-29736a432c51",
   "metadata": {},
   "outputs": [],
   "source": [
    "# Invoke, using message trimming in the chat_model_node \n",
    "messages_out_trim = graph.invoke({'messages': messages})"
   ]
  },
  {
   "cell_type": "markdown",
   "id": "38b3db67-380e-46b5-9a6a-20100ba52008",
   "metadata": {},
   "source": [
    "Let's look at the LangSmith trace to see the model invocation:\n",
    "\n",
    "https://smith.langchain.com/public/b153f7e9-f1a5-4d60-8074-f0d7ab5b42ef/r"
   ]
  }
 ],
 "metadata": {
  "kernelspec": {
   "display_name": "langchain",
   "language": "python",
   "name": "python3"
  },
  "language_info": {
   "codemirror_mode": {
    "name": "ipython",
    "version": 3
   },
   "file_extension": ".py",
   "mimetype": "text/x-python",
   "name": "python",
   "nbconvert_exporter": "python",
   "pygments_lexer": "ipython3",
   "version": "3.11.10"
  }
 },
 "nbformat": 4,
 "nbformat_minor": 5
}
